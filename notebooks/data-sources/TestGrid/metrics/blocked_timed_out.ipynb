{
 "cells": [
  {
   "cell_type": "markdown",
   "id": "marine-details",
   "metadata": {},
   "source": [
    "# Tests Blocked and Timed Out Tests\n",
    "\n",
    "This notebook is an extension to the [number_of_flakes](number_of_flakes.ipynb) notebook. In this notebook, the key perfomance indicators that we would like to create greater visbility into and track over time is the percent of tests that got blocked or were timed out. By observing the above metrics and tracking them wrt time, we will be able to quantify the efficiency of our testing platforms.\n",
    "\n",
    "* number and percent of tests blocked\n",
    "* number and percent of tests timed out\n",
    "\n",
    "Linked issue : [issue](https://github.com/aicoe-aiops/ocp-ci-analysis/issues/114)"
   ]
  },
  {
   "cell_type": "code",
   "execution_count": 1,
   "id": "electrical-motion",
   "metadata": {
    "ExecuteTime": {
     "end_time": "2021-03-24T16:44:12.972187Z",
     "start_time": "2021-03-24T16:44:12.389584Z"
    }
   },
   "outputs": [
    {
     "data": {
      "text/plain": [
       "True"
      ]
     },
     "execution_count": 1,
     "metadata": {},
     "output_type": "execute_result"
    }
   ],
   "source": [
    "import gzip\n",
    "import json\n",
    "import os\n",
    "import pandas as pd\n",
    "import datetime\n",
    "\n",
    "from ipynb.fs.defs.metric_template import testgrid_labelwise_encoding\n",
    "from ipynb.fs.defs.metric_template import CephCommunication\n",
    "from ipynb.fs.defs.metric_template import save_to_disk, read_from_disk\n",
    "from dotenv import load_dotenv, find_dotenv\n",
    "\n",
    "load_dotenv(find_dotenv())"
   ]
  },
  {
   "cell_type": "code",
   "execution_count": 2,
   "id": "smaller-court",
   "metadata": {},
   "outputs": [],
   "source": [
    "## Specify variables\n",
    "\n",
    "METRIC_NAME = \"blocked_timed_out\"\n",
    "\n",
    "# Specify the path for input grid data,\n",
    "INPUT_DATA_PATH = \"../../../../data/raw/testgrid_183.json.gz\"\n",
    "\n",
    "# Specify the path for output metric data\n",
    "OUTPUT_DATA_PATH = f\"../../../../data/processed/metrics/{METRIC_NAME}\"\n",
    "\n",
    "## CEPH Bucket variables\n",
    "## Create a .env file on your local with the correct configs,\n",
    "s3_endpoint_url = os.getenv(\"S3_ENDPOINT\")\n",
    "s3_access_key = os.getenv(\"S3_ACCESS_KEY\")\n",
    "s3_secret_key = os.getenv(\"S3_SECRET_KEY\")\n",
    "s3_bucket = os.getenv(\"S3_BUCKET\")\n",
    "s3_path = os.getenv(\"S3_PROJECT_KEY\", \"metrics\")\n",
    "s3_input_data_path = \"raw_data\"\n",
    "AUTOMATION = os.getenv(\"IN_AUTOMATION\")"
   ]
  },
  {
   "cell_type": "code",
   "execution_count": 3,
   "id": "obvious-scholar",
   "metadata": {},
   "outputs": [],
   "source": [
    "## Import data\n",
    "timestamp = datetime.datetime.today()\n",
    "\n",
    "if AUTOMATION:\n",
    "\n",
    "    filename = f\"testgrid_{timestamp.day}{timestamp.month}.json\"\n",
    "\n",
    "    cc = CephCommunication(s3_endpoint_url, s3_access_key, s3_secret_key, s3_bucket)\n",
    "    s3_object = cc.s3_resource.Object(s3_bucket, f\"{s3_input_data_path}/{filename}\")\n",
    "    file_content = s3_object.get()[\"Body\"].read().decode(\"utf-8\")\n",
    "    testgrid_data = json.loads(file_content)\n",
    "\n",
    "else:\n",
    "    with gzip.open(INPUT_DATA_PATH, \"rb\") as read_file:\n",
    "        testgrid_data = json.load(read_file)"
   ]
  },
  {
   "cell_type": "markdown",
   "id": "conditional-wallpaper",
   "metadata": {
    "ExecuteTime": {
     "end_time": "2021-03-24T16:44:27.621017Z",
     "start_time": "2021-03-24T16:44:12.974429Z"
    }
   },
   "source": [
    "## Metric Calculation\n",
    "1. **Blocked Tests** : Finding all the tests that are blocked i.e. tests with the status code 8."
   ]
  },
  {
   "cell_type": "code",
   "execution_count": 4,
   "id": "adaptive-steel",
   "metadata": {
    "ExecuteTime": {
     "end_time": "2021-03-24T16:44:55.758887Z",
     "start_time": "2021-03-24T16:44:27.623651Z"
    }
   },
   "outputs": [],
   "source": [
    "blocked_tests_list = testgrid_labelwise_encoding(testgrid_data, 8)[0:1000000]"
   ]
  },
  {
   "cell_type": "code",
   "execution_count": 5,
   "id": "honest-february",
   "metadata": {
    "ExecuteTime": {
     "end_time": "2021-03-24T16:44:55.765711Z",
     "start_time": "2021-03-24T16:44:55.761358Z"
    }
   },
   "outputs": [
    {
     "data": {
      "text/plain": [
       "1000000"
      ]
     },
     "execution_count": 5,
     "metadata": {},
     "output_type": "execute_result"
    }
   ],
   "source": [
    "len(blocked_tests_list)"
   ]
  },
  {
   "cell_type": "code",
   "execution_count": 6,
   "id": "stone-apparatus",
   "metadata": {
    "ExecuteTime": {
     "end_time": "2021-03-24T16:44:55.775074Z",
     "start_time": "2021-03-24T16:44:55.767548Z"
    }
   },
   "outputs": [
    {
     "data": {
      "text/plain": [
       "(datetime.datetime(2021, 3, 15, 23, 40, 20),\n",
       " '\"redhat-assisted-installer\"',\n",
       " 'periodic-ci-openshift-release-master-nightly-4.6-e2e-metal-assisted',\n",
       " 'Overall',\n",
       " 80.28333333333333,\n",
       " False)"
      ]
     },
     "execution_count": 6,
     "metadata": {},
     "output_type": "execute_result"
    }
   ],
   "source": [
    "blocked_tests_list[0]"
   ]
  },
  {
   "cell_type": "code",
   "execution_count": 7,
   "id": "interstate-ratio",
   "metadata": {
    "ExecuteTime": {
     "end_time": "2021-03-24T16:44:56.327631Z",
     "start_time": "2021-03-24T16:44:55.777106Z"
    }
   },
   "outputs": [
    {
     "data": {
      "text/html": [
       "<div>\n",
       "<style scoped>\n",
       "    .dataframe tbody tr th:only-of-type {\n",
       "        vertical-align: middle;\n",
       "    }\n",
       "\n",
       "    .dataframe tbody tr th {\n",
       "        vertical-align: top;\n",
       "    }\n",
       "\n",
       "    .dataframe thead th {\n",
       "        text-align: right;\n",
       "    }\n",
       "</style>\n",
       "<table border=\"1\" class=\"dataframe\">\n",
       "  <thead>\n",
       "    <tr style=\"text-align: right;\">\n",
       "      <th></th>\n",
       "      <th>timestamp</th>\n",
       "      <th>tab</th>\n",
       "      <th>grid</th>\n",
       "      <th>test</th>\n",
       "      <th>test_duration</th>\n",
       "      <th>test_blocked</th>\n",
       "    </tr>\n",
       "  </thead>\n",
       "  <tbody>\n",
       "    <tr>\n",
       "      <th>0</th>\n",
       "      <td>2021-03-15 23:40:20</td>\n",
       "      <td>\"redhat-assisted-installer\"</td>\n",
       "      <td>periodic-ci-openshift-release-master-nightly-4...</td>\n",
       "      <td>Overall</td>\n",
       "      <td>80.283333</td>\n",
       "      <td>False</td>\n",
       "    </tr>\n",
       "    <tr>\n",
       "      <th>1</th>\n",
       "      <td>2021-03-15 00:01:06</td>\n",
       "      <td>\"redhat-assisted-installer\"</td>\n",
       "      <td>periodic-ci-openshift-release-master-nightly-4...</td>\n",
       "      <td>Overall</td>\n",
       "      <td>92.050000</td>\n",
       "      <td>False</td>\n",
       "    </tr>\n",
       "    <tr>\n",
       "      <th>2</th>\n",
       "      <td>2021-03-13 20:51:32</td>\n",
       "      <td>\"redhat-assisted-installer\"</td>\n",
       "      <td>periodic-ci-openshift-release-master-nightly-4...</td>\n",
       "      <td>Overall</td>\n",
       "      <td>80.983333</td>\n",
       "      <td>False</td>\n",
       "    </tr>\n",
       "    <tr>\n",
       "      <th>3</th>\n",
       "      <td>2021-03-13 07:51:20</td>\n",
       "      <td>\"redhat-assisted-installer\"</td>\n",
       "      <td>periodic-ci-openshift-release-master-nightly-4...</td>\n",
       "      <td>Overall</td>\n",
       "      <td>117.716667</td>\n",
       "      <td>False</td>\n",
       "    </tr>\n",
       "    <tr>\n",
       "      <th>4</th>\n",
       "      <td>2021-03-13 06:43:20</td>\n",
       "      <td>\"redhat-assisted-installer\"</td>\n",
       "      <td>periodic-ci-openshift-release-master-nightly-4...</td>\n",
       "      <td>Overall</td>\n",
       "      <td>108.633333</td>\n",
       "      <td>False</td>\n",
       "    </tr>\n",
       "  </tbody>\n",
       "</table>\n",
       "</div>"
      ],
      "text/plain": [
       "            timestamp                          tab  \\\n",
       "0 2021-03-15 23:40:20  \"redhat-assisted-installer\"   \n",
       "1 2021-03-15 00:01:06  \"redhat-assisted-installer\"   \n",
       "2 2021-03-13 20:51:32  \"redhat-assisted-installer\"   \n",
       "3 2021-03-13 07:51:20  \"redhat-assisted-installer\"   \n",
       "4 2021-03-13 06:43:20  \"redhat-assisted-installer\"   \n",
       "\n",
       "                                                grid     test  test_duration  \\\n",
       "0  periodic-ci-openshift-release-master-nightly-4...  Overall      80.283333   \n",
       "1  periodic-ci-openshift-release-master-nightly-4...  Overall      92.050000   \n",
       "2  periodic-ci-openshift-release-master-nightly-4...  Overall      80.983333   \n",
       "3  periodic-ci-openshift-release-master-nightly-4...  Overall     117.716667   \n",
       "4  periodic-ci-openshift-release-master-nightly-4...  Overall     108.633333   \n",
       "\n",
       "   test_blocked  \n",
       "0         False  \n",
       "1         False  \n",
       "2         False  \n",
       "3         False  \n",
       "4         False  "
      ]
     },
     "execution_count": 7,
     "metadata": {},
     "output_type": "execute_result"
    }
   ],
   "source": [
    "# Convert to dataframe\n",
    "blocked_tests_df = pd.DataFrame(\n",
    "    blocked_tests_list,\n",
    "    columns=[\"timestamp\", \"tab\", \"grid\", \"test\", \"test_duration\", \"test_blocked\"],\n",
    ")\n",
    "blocked_tests_df.head()"
   ]
  },
  {
   "cell_type": "markdown",
   "id": "several-sessions",
   "metadata": {},
   "source": [
    "* **Timed Out Tests** : Finding all the tests that are timed out i.e. tests with the status code 9."
   ]
  },
  {
   "cell_type": "code",
   "execution_count": 8,
   "id": "overhead-spelling",
   "metadata": {
    "ExecuteTime": {
     "end_time": "2021-03-24T16:45:26.742323Z",
     "start_time": "2021-03-24T16:44:56.382123Z"
    }
   },
   "outputs": [],
   "source": [
    "timed_out_tests_list = testgrid_labelwise_encoding(testgrid_data, 9)[0:1000000]"
   ]
  },
  {
   "cell_type": "code",
   "execution_count": 9,
   "id": "secret-beginning",
   "metadata": {},
   "outputs": [
    {
     "data": {
      "text/plain": [
       "1000000"
      ]
     },
     "execution_count": 9,
     "metadata": {},
     "output_type": "execute_result"
    }
   ],
   "source": [
    "len(timed_out_tests_list)"
   ]
  },
  {
   "cell_type": "code",
   "execution_count": 10,
   "id": "undefined-million",
   "metadata": {},
   "outputs": [
    {
     "data": {
      "text/plain": [
       "(datetime.datetime(2021, 3, 15, 23, 40, 20),\n",
       " '\"redhat-assisted-installer\"',\n",
       " 'periodic-ci-openshift-release-master-nightly-4.6-e2e-metal-assisted',\n",
       " 'Overall',\n",
       " 80.28333333333333,\n",
       " False)"
      ]
     },
     "execution_count": 10,
     "metadata": {},
     "output_type": "execute_result"
    }
   ],
   "source": [
    "timed_out_tests_list[0]"
   ]
  },
  {
   "cell_type": "code",
   "execution_count": 11,
   "id": "final-israel",
   "metadata": {
    "ExecuteTime": {
     "end_time": "2021-03-24T16:45:27.269559Z",
     "start_time": "2021-03-24T16:45:26.744803Z"
    }
   },
   "outputs": [
    {
     "data": {
      "text/html": [
       "<div>\n",
       "<style scoped>\n",
       "    .dataframe tbody tr th:only-of-type {\n",
       "        vertical-align: middle;\n",
       "    }\n",
       "\n",
       "    .dataframe tbody tr th {\n",
       "        vertical-align: top;\n",
       "    }\n",
       "\n",
       "    .dataframe thead th {\n",
       "        text-align: right;\n",
       "    }\n",
       "</style>\n",
       "<table border=\"1\" class=\"dataframe\">\n",
       "  <thead>\n",
       "    <tr style=\"text-align: right;\">\n",
       "      <th></th>\n",
       "      <th>timestamp</th>\n",
       "      <th>tab</th>\n",
       "      <th>grid</th>\n",
       "      <th>test</th>\n",
       "      <th>test_duration</th>\n",
       "      <th>test_timed_out</th>\n",
       "    </tr>\n",
       "  </thead>\n",
       "  <tbody>\n",
       "    <tr>\n",
       "      <th>0</th>\n",
       "      <td>2021-03-15 23:40:20</td>\n",
       "      <td>\"redhat-assisted-installer\"</td>\n",
       "      <td>periodic-ci-openshift-release-master-nightly-4...</td>\n",
       "      <td>Overall</td>\n",
       "      <td>80.283333</td>\n",
       "      <td>False</td>\n",
       "    </tr>\n",
       "    <tr>\n",
       "      <th>1</th>\n",
       "      <td>2021-03-15 00:01:06</td>\n",
       "      <td>\"redhat-assisted-installer\"</td>\n",
       "      <td>periodic-ci-openshift-release-master-nightly-4...</td>\n",
       "      <td>Overall</td>\n",
       "      <td>92.050000</td>\n",
       "      <td>False</td>\n",
       "    </tr>\n",
       "    <tr>\n",
       "      <th>2</th>\n",
       "      <td>2021-03-13 20:51:32</td>\n",
       "      <td>\"redhat-assisted-installer\"</td>\n",
       "      <td>periodic-ci-openshift-release-master-nightly-4...</td>\n",
       "      <td>Overall</td>\n",
       "      <td>80.983333</td>\n",
       "      <td>False</td>\n",
       "    </tr>\n",
       "    <tr>\n",
       "      <th>3</th>\n",
       "      <td>2021-03-13 07:51:20</td>\n",
       "      <td>\"redhat-assisted-installer\"</td>\n",
       "      <td>periodic-ci-openshift-release-master-nightly-4...</td>\n",
       "      <td>Overall</td>\n",
       "      <td>117.716667</td>\n",
       "      <td>False</td>\n",
       "    </tr>\n",
       "    <tr>\n",
       "      <th>4</th>\n",
       "      <td>2021-03-13 06:43:20</td>\n",
       "      <td>\"redhat-assisted-installer\"</td>\n",
       "      <td>periodic-ci-openshift-release-master-nightly-4...</td>\n",
       "      <td>Overall</td>\n",
       "      <td>108.633333</td>\n",
       "      <td>False</td>\n",
       "    </tr>\n",
       "  </tbody>\n",
       "</table>\n",
       "</div>"
      ],
      "text/plain": [
       "            timestamp                          tab  \\\n",
       "0 2021-03-15 23:40:20  \"redhat-assisted-installer\"   \n",
       "1 2021-03-15 00:01:06  \"redhat-assisted-installer\"   \n",
       "2 2021-03-13 20:51:32  \"redhat-assisted-installer\"   \n",
       "3 2021-03-13 07:51:20  \"redhat-assisted-installer\"   \n",
       "4 2021-03-13 06:43:20  \"redhat-assisted-installer\"   \n",
       "\n",
       "                                                grid     test  test_duration  \\\n",
       "0  periodic-ci-openshift-release-master-nightly-4...  Overall      80.283333   \n",
       "1  periodic-ci-openshift-release-master-nightly-4...  Overall      92.050000   \n",
       "2  periodic-ci-openshift-release-master-nightly-4...  Overall      80.983333   \n",
       "3  periodic-ci-openshift-release-master-nightly-4...  Overall     117.716667   \n",
       "4  periodic-ci-openshift-release-master-nightly-4...  Overall     108.633333   \n",
       "\n",
       "   test_timed_out  \n",
       "0           False  \n",
       "1           False  \n",
       "2           False  \n",
       "3           False  \n",
       "4           False  "
      ]
     },
     "execution_count": 11,
     "metadata": {},
     "output_type": "execute_result"
    }
   ],
   "source": [
    "# Convert to dataframe\n",
    "timed_out_tests_df = pd.DataFrame(\n",
    "    timed_out_tests_list,\n",
    "    columns=[\"timestamp\", \"tab\", \"grid\", \"test\", \"test_duration\", \"test_timed_out\"],\n",
    ")\n",
    "timed_out_tests_df.head()"
   ]
  },
  {
   "cell_type": "code",
   "execution_count": 12,
   "id": "fitting-macintosh",
   "metadata": {
    "ExecuteTime": {
     "end_time": "2021-03-24T16:45:27.525281Z",
     "start_time": "2021-03-24T16:45:27.305868Z"
    }
   },
   "outputs": [
    {
     "name": "stdout",
     "output_type": "stream",
     "text": [
      "Total number of tests: 1000000\n",
      "Total number of tests blocked: 0\n",
      "Tests blocked percentage: 0.000000\n",
      "Total number of timed out tests: 0\n",
      "Test timed out percentage: 0.000000\n"
     ]
    }
   ],
   "source": [
    "no_tests = blocked_tests_df.test.count()\n",
    "print(\"Total number of tests: %i\" % (no_tests))\n",
    "no_blocked = blocked_tests_df.test_blocked.sum()\n",
    "print(\"Total number of tests blocked: %i\" % (no_blocked))\n",
    "test_blocked_percentage = (\n",
    "    (blocked_tests_df.test_blocked.sum() / blocked_tests_df.test.count())\n",
    ") * 100\n",
    "print(\"Tests blocked percentage: %f\" % (test_blocked_percentage))\n",
    "no_timed_out = timed_out_tests_df.test_timed_out.sum()\n",
    "print(\"Total number of timed out tests: %i\" % (no_timed_out))\n",
    "test_timed_out_percentage = (\n",
    "    (timed_out_tests_df.test_timed_out.sum() / timed_out_tests_df.test.count())\n",
    ") * 100\n",
    "print(\"Test timed out percentage: %f\" % (test_timed_out_percentage))"
   ]
  },
  {
   "cell_type": "code",
   "execution_count": 13,
   "id": "steady-yugoslavia",
   "metadata": {},
   "outputs": [],
   "source": [
    "combined = pd.merge(\n",
    "    blocked_tests_df,\n",
    "    timed_out_tests_df,\n",
    "    on=[\"timestamp\", \"tab\", \"grid\", \"test\", \"test_duration\"],\n",
    ")"
   ]
  },
  {
   "cell_type": "code",
   "execution_count": 14,
   "id": "starting-sauce",
   "metadata": {},
   "outputs": [
    {
     "data": {
      "text/html": [
       "<div>\n",
       "<style scoped>\n",
       "    .dataframe tbody tr th:only-of-type {\n",
       "        vertical-align: middle;\n",
       "    }\n",
       "\n",
       "    .dataframe tbody tr th {\n",
       "        vertical-align: top;\n",
       "    }\n",
       "\n",
       "    .dataframe thead th {\n",
       "        text-align: right;\n",
       "    }\n",
       "</style>\n",
       "<table border=\"1\" class=\"dataframe\">\n",
       "  <thead>\n",
       "    <tr style=\"text-align: right;\">\n",
       "      <th></th>\n",
       "      <th>timestamp</th>\n",
       "      <th>tab</th>\n",
       "      <th>grid</th>\n",
       "      <th>test</th>\n",
       "      <th>test_blocked</th>\n",
       "      <th>test_timed_out</th>\n",
       "    </tr>\n",
       "  </thead>\n",
       "  <tbody>\n",
       "    <tr>\n",
       "      <th>0</th>\n",
       "      <td>2021-03-15 23:40:20</td>\n",
       "      <td>\"redhat-assisted-installer\"</td>\n",
       "      <td>periodic-ci-openshift-release-master-nightly-4...</td>\n",
       "      <td>Overall</td>\n",
       "      <td>False</td>\n",
       "      <td>False</td>\n",
       "    </tr>\n",
       "    <tr>\n",
       "      <th>1</th>\n",
       "      <td>2021-03-15 00:01:06</td>\n",
       "      <td>\"redhat-assisted-installer\"</td>\n",
       "      <td>periodic-ci-openshift-release-master-nightly-4...</td>\n",
       "      <td>Overall</td>\n",
       "      <td>False</td>\n",
       "      <td>False</td>\n",
       "    </tr>\n",
       "    <tr>\n",
       "      <th>2</th>\n",
       "      <td>2021-03-13 20:51:32</td>\n",
       "      <td>\"redhat-assisted-installer\"</td>\n",
       "      <td>periodic-ci-openshift-release-master-nightly-4...</td>\n",
       "      <td>Overall</td>\n",
       "      <td>False</td>\n",
       "      <td>False</td>\n",
       "    </tr>\n",
       "    <tr>\n",
       "      <th>3</th>\n",
       "      <td>2021-03-13 07:51:20</td>\n",
       "      <td>\"redhat-assisted-installer\"</td>\n",
       "      <td>periodic-ci-openshift-release-master-nightly-4...</td>\n",
       "      <td>Overall</td>\n",
       "      <td>False</td>\n",
       "      <td>False</td>\n",
       "    </tr>\n",
       "    <tr>\n",
       "      <th>4</th>\n",
       "      <td>2021-03-13 06:43:20</td>\n",
       "      <td>\"redhat-assisted-installer\"</td>\n",
       "      <td>periodic-ci-openshift-release-master-nightly-4...</td>\n",
       "      <td>Overall</td>\n",
       "      <td>False</td>\n",
       "      <td>False</td>\n",
       "    </tr>\n",
       "  </tbody>\n",
       "</table>\n",
       "</div>"
      ],
      "text/plain": [
       "            timestamp                          tab  \\\n",
       "0 2021-03-15 23:40:20  \"redhat-assisted-installer\"   \n",
       "1 2021-03-15 00:01:06  \"redhat-assisted-installer\"   \n",
       "2 2021-03-13 20:51:32  \"redhat-assisted-installer\"   \n",
       "3 2021-03-13 07:51:20  \"redhat-assisted-installer\"   \n",
       "4 2021-03-13 06:43:20  \"redhat-assisted-installer\"   \n",
       "\n",
       "                                                grid     test  test_blocked  \\\n",
       "0  periodic-ci-openshift-release-master-nightly-4...  Overall         False   \n",
       "1  periodic-ci-openshift-release-master-nightly-4...  Overall         False   \n",
       "2  periodic-ci-openshift-release-master-nightly-4...  Overall         False   \n",
       "3  periodic-ci-openshift-release-master-nightly-4...  Overall         False   \n",
       "4  periodic-ci-openshift-release-master-nightly-4...  Overall         False   \n",
       "\n",
       "   test_timed_out  \n",
       "0           False  \n",
       "1           False  \n",
       "2           False  \n",
       "3           False  \n",
       "4           False  "
      ]
     },
     "execution_count": 14,
     "metadata": {},
     "output_type": "execute_result"
    }
   ],
   "source": [
    "combined.drop(columns=\"test_duration\", inplace=True)\n",
    "combined.head()"
   ]
  },
  {
   "cell_type": "markdown",
   "id": "outstanding-monday",
   "metadata": {},
   "source": [
    "## Save to Ceph or Local"
   ]
  },
  {
   "cell_type": "code",
   "execution_count": 15,
   "id": "understanding-rainbow",
   "metadata": {},
   "outputs": [],
   "source": [
    "if AUTOMATION:\n",
    "    cc = CephCommunication(s3_endpoint_url, s3_access_key, s3_secret_key, s3_bucket)\n",
    "    cc.upload_to_ceph(\n",
    "        combined,\n",
    "        s3_path,\n",
    "        f\"{METRIC_NAME}/{METRIC_NAME}-{timestamp.year}-{timestamp.month}-{timestamp.day}.parquet\",\n",
    "    )\n",
    "else:\n",
    "    save_to_disk(\n",
    "        combined,\n",
    "        OUTPUT_DATA_PATH,\n",
    "        f\"{METRIC_NAME}-{timestamp.year}-{timestamp.month}-{timestamp.day}.parquet\",\n",
    "    )"
   ]
  },
  {
   "cell_type": "code",
   "execution_count": 16,
   "id": "subjective-webmaster",
   "metadata": {},
   "outputs": [
    {
     "data": {
      "text/html": [
       "<div>\n",
       "<style scoped>\n",
       "    .dataframe tbody tr th:only-of-type {\n",
       "        vertical-align: middle;\n",
       "    }\n",
       "\n",
       "    .dataframe tbody tr th {\n",
       "        vertical-align: top;\n",
       "    }\n",
       "\n",
       "    .dataframe thead th {\n",
       "        text-align: right;\n",
       "    }\n",
       "</style>\n",
       "<table border=\"1\" class=\"dataframe\">\n",
       "  <thead>\n",
       "    <tr style=\"text-align: right;\">\n",
       "      <th></th>\n",
       "      <th>timestamp</th>\n",
       "      <th>tab</th>\n",
       "      <th>grid</th>\n",
       "      <th>test</th>\n",
       "      <th>test_blocked</th>\n",
       "      <th>test_timed_out</th>\n",
       "    </tr>\n",
       "  </thead>\n",
       "  <tbody>\n",
       "    <tr>\n",
       "      <th>0</th>\n",
       "      <td>2021-03-15 23:40:20</td>\n",
       "      <td>\"redhat-assisted-installer\"</td>\n",
       "      <td>periodic-ci-openshift-release-master-nightly-4...</td>\n",
       "      <td>Overall</td>\n",
       "      <td>False</td>\n",
       "      <td>False</td>\n",
       "    </tr>\n",
       "    <tr>\n",
       "      <th>1</th>\n",
       "      <td>2021-03-15 00:01:06</td>\n",
       "      <td>\"redhat-assisted-installer\"</td>\n",
       "      <td>periodic-ci-openshift-release-master-nightly-4...</td>\n",
       "      <td>Overall</td>\n",
       "      <td>False</td>\n",
       "      <td>False</td>\n",
       "    </tr>\n",
       "    <tr>\n",
       "      <th>2</th>\n",
       "      <td>2021-03-13 20:51:32</td>\n",
       "      <td>\"redhat-assisted-installer\"</td>\n",
       "      <td>periodic-ci-openshift-release-master-nightly-4...</td>\n",
       "      <td>Overall</td>\n",
       "      <td>False</td>\n",
       "      <td>False</td>\n",
       "    </tr>\n",
       "    <tr>\n",
       "      <th>3</th>\n",
       "      <td>2021-03-13 07:51:20</td>\n",
       "      <td>\"redhat-assisted-installer\"</td>\n",
       "      <td>periodic-ci-openshift-release-master-nightly-4...</td>\n",
       "      <td>Overall</td>\n",
       "      <td>False</td>\n",
       "      <td>False</td>\n",
       "    </tr>\n",
       "    <tr>\n",
       "      <th>4</th>\n",
       "      <td>2021-03-13 06:43:20</td>\n",
       "      <td>\"redhat-assisted-installer\"</td>\n",
       "      <td>periodic-ci-openshift-release-master-nightly-4...</td>\n",
       "      <td>Overall</td>\n",
       "      <td>False</td>\n",
       "      <td>False</td>\n",
       "    </tr>\n",
       "    <tr>\n",
       "      <th>...</th>\n",
       "      <td>...</td>\n",
       "      <td>...</td>\n",
       "      <td>...</td>\n",
       "      <td>...</td>\n",
       "      <td>...</td>\n",
       "      <td>...</td>\n",
       "    </tr>\n",
       "    <tr>\n",
       "      <th>1011205</th>\n",
       "      <td>2021-03-05 10:59:34</td>\n",
       "      <td>\"redhat-openshift-informing\"</td>\n",
       "      <td>release-openshift-origin-installer-launch-gcp</td>\n",
       "      <td>openshift-tests.[sig-network] NetworkPolicy [L...</td>\n",
       "      <td>False</td>\n",
       "      <td>False</td>\n",
       "    </tr>\n",
       "    <tr>\n",
       "      <th>1011206</th>\n",
       "      <td>2021-03-05 10:56:22</td>\n",
       "      <td>\"redhat-openshift-informing\"</td>\n",
       "      <td>release-openshift-origin-installer-launch-gcp</td>\n",
       "      <td>openshift-tests.[sig-network] NetworkPolicy [L...</td>\n",
       "      <td>False</td>\n",
       "      <td>False</td>\n",
       "    </tr>\n",
       "    <tr>\n",
       "      <th>1011207</th>\n",
       "      <td>2021-03-05 10:56:02</td>\n",
       "      <td>\"redhat-openshift-informing\"</td>\n",
       "      <td>release-openshift-origin-installer-launch-gcp</td>\n",
       "      <td>openshift-tests.[sig-network] NetworkPolicy [L...</td>\n",
       "      <td>False</td>\n",
       "      <td>False</td>\n",
       "    </tr>\n",
       "    <tr>\n",
       "      <th>1011208</th>\n",
       "      <td>2021-03-05 10:27:23</td>\n",
       "      <td>\"redhat-openshift-informing\"</td>\n",
       "      <td>release-openshift-origin-installer-launch-gcp</td>\n",
       "      <td>openshift-tests.[sig-network] NetworkPolicy [L...</td>\n",
       "      <td>False</td>\n",
       "      <td>False</td>\n",
       "    </tr>\n",
       "    <tr>\n",
       "      <th>1011209</th>\n",
       "      <td>2021-03-05 10:14:50</td>\n",
       "      <td>\"redhat-openshift-informing\"</td>\n",
       "      <td>release-openshift-origin-installer-launch-gcp</td>\n",
       "      <td>openshift-tests.[sig-network] NetworkPolicy [L...</td>\n",
       "      <td>False</td>\n",
       "      <td>False</td>\n",
       "    </tr>\n",
       "  </tbody>\n",
       "</table>\n",
       "<p>1011210 rows × 6 columns</p>\n",
       "</div>"
      ],
      "text/plain": [
       "                  timestamp                           tab  \\\n",
       "0       2021-03-15 23:40:20   \"redhat-assisted-installer\"   \n",
       "1       2021-03-15 00:01:06   \"redhat-assisted-installer\"   \n",
       "2       2021-03-13 20:51:32   \"redhat-assisted-installer\"   \n",
       "3       2021-03-13 07:51:20   \"redhat-assisted-installer\"   \n",
       "4       2021-03-13 06:43:20   \"redhat-assisted-installer\"   \n",
       "...                     ...                           ...   \n",
       "1011205 2021-03-05 10:59:34  \"redhat-openshift-informing\"   \n",
       "1011206 2021-03-05 10:56:22  \"redhat-openshift-informing\"   \n",
       "1011207 2021-03-05 10:56:02  \"redhat-openshift-informing\"   \n",
       "1011208 2021-03-05 10:27:23  \"redhat-openshift-informing\"   \n",
       "1011209 2021-03-05 10:14:50  \"redhat-openshift-informing\"   \n",
       "\n",
       "                                                      grid  \\\n",
       "0        periodic-ci-openshift-release-master-nightly-4...   \n",
       "1        periodic-ci-openshift-release-master-nightly-4...   \n",
       "2        periodic-ci-openshift-release-master-nightly-4...   \n",
       "3        periodic-ci-openshift-release-master-nightly-4...   \n",
       "4        periodic-ci-openshift-release-master-nightly-4...   \n",
       "...                                                    ...   \n",
       "1011205      release-openshift-origin-installer-launch-gcp   \n",
       "1011206      release-openshift-origin-installer-launch-gcp   \n",
       "1011207      release-openshift-origin-installer-launch-gcp   \n",
       "1011208      release-openshift-origin-installer-launch-gcp   \n",
       "1011209      release-openshift-origin-installer-launch-gcp   \n",
       "\n",
       "                                                      test  test_blocked  \\\n",
       "0                                                  Overall         False   \n",
       "1                                                  Overall         False   \n",
       "2                                                  Overall         False   \n",
       "3                                                  Overall         False   \n",
       "4                                                  Overall         False   \n",
       "...                                                    ...           ...   \n",
       "1011205  openshift-tests.[sig-network] NetworkPolicy [L...         False   \n",
       "1011206  openshift-tests.[sig-network] NetworkPolicy [L...         False   \n",
       "1011207  openshift-tests.[sig-network] NetworkPolicy [L...         False   \n",
       "1011208  openshift-tests.[sig-network] NetworkPolicy [L...         False   \n",
       "1011209  openshift-tests.[sig-network] NetworkPolicy [L...         False   \n",
       "\n",
       "         test_timed_out  \n",
       "0                 False  \n",
       "1                 False  \n",
       "2                 False  \n",
       "3                 False  \n",
       "4                 False  \n",
       "...                 ...  \n",
       "1011205           False  \n",
       "1011206           False  \n",
       "1011207           False  \n",
       "1011208           False  \n",
       "1011209           False  \n",
       "\n",
       "[1011210 rows x 6 columns]"
      ]
     },
     "execution_count": 16,
     "metadata": {},
     "output_type": "execute_result"
    }
   ],
   "source": [
    "## Sanity check to see if the dataset is the same\n",
    "if AUTOMATION:\n",
    "    sanity_check = cc.read_from_ceph(\n",
    "        s3_path,\n",
    "        f\"{METRIC_NAME}/{METRIC_NAME}-{timestamp.year}-{timestamp.month}-{timestamp.day}.parquet\",\n",
    "    )\n",
    "else:\n",
    "    sanity_check = read_from_disk(\n",
    "        OUTPUT_DATA_PATH,\n",
    "        f\"{METRIC_NAME}-{timestamp.year}-{timestamp.month}-{timestamp.day}.parquet\",\n",
    "    )\n",
    "\n",
    "sanity_check"
   ]
  },
  {
   "cell_type": "markdown",
   "id": "resident-universal",
   "metadata": {},
   "source": [
    "## Conclusion :\n",
    "\n",
    "This notebook computed number of timed out tests and blocked tests. The combined dataframe is then saved on ceph and can be used to generate views and visualizations."
   ]
  }
 ],
 "metadata": {
  "finalized": {
   "timestamp": 1612822647266,
   "trusted": true
  },
  "kernelspec": {
   "display_name": "Python 3",
   "language": "python",
   "name": "python3"
  },
  "language_info": {
   "codemirror_mode": {
    "name": "ipython",
    "version": 3
   },
   "file_extension": ".py",
   "mimetype": "text/x-python",
   "name": "python",
   "nbconvert_exporter": "python",
   "pygments_lexer": "ipython3",
   "version": "3.6.8"
  },
  "toc": {
   "base_numbering": 1,
   "nav_menu": {},
   "number_sections": true,
   "sideBar": true,
   "skip_h1_title": false,
   "title_cell": "Table of Contents",
   "title_sidebar": "Contents",
   "toc_cell": false,
   "toc_position": {},
   "toc_section_display": true,
   "toc_window_display": false
  }
 },
 "nbformat": 4,
 "nbformat_minor": 5
}
