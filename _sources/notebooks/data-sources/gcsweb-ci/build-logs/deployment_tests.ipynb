{
 "cells": [
  {
   "cell_type": "code",
   "execution_count": null,
   "id": "24150296",
   "metadata": {},
   "outputs": [],
   "source": [
    "# Vanilla sklearn server w/ example iris model"
   ]
  },
  {
   "cell_type": "code",
   "execution_count": 1,
   "id": "285d59e5",
   "metadata": {},
   "outputs": [],
   "source": [
    "import base64\n",
    "import requests\n",
    "import cloudpickle\n",
    "import numpy as np\n",
    "import json"
   ]
  },
  {
   "cell_type": "code",
   "execution_count": 21,
   "id": "ad4ea109",
   "metadata": {},
   "outputs": [
    {
     "name": "stdout",
     "output_type": "stream",
     "text": [
      "{\"data\":{\"names\":[\"proba\"],\"ndarray\":[[0.8790094636370691]]},\"meta\":{\"requestPath\":{\"classifier\":\"seldonio/mock_classifier:1.6.0\"}}}\n",
      "\n"
     ]
    }
   ],
   "source": [
    "baseurl = \"http://sklearn-1-opf-seldon.apps.zero.massopen.cloud\"\n",
    "payload = {\"data\": {\"names\": [\"sepal_length\", \"sepal_width\", \"petal_length\", \"petal_width\"], \"ndarray\": [[7.233, 4.652, 7.39, 0.324]]}}\n",
    "r = requests.post(baseurl + \"/predict\", json=payload)\n",
    "print(r.text)"
   ]
  },
  {
   "cell_type": "code",
   "execution_count": null,
   "id": "17376c86",
   "metadata": {},
   "outputs": [],
   "source": [
    "# test we can load model "
   ]
  },
  {
   "cell_type": "code",
   "execution_count": 9,
   "id": "b44773a6",
   "metadata": {},
   "outputs": [
    {
     "name": "stdout",
     "output_type": "stream",
     "text": [
      "Hello Worlds!\n"
     ]
    }
   ],
   "source": [
    "with open(\"notebooks/data-sources/gcsweb-ci/build-logs/test.txt\", \"r\") as f:\n",
    "    print(f.read())"
   ]
  },
  {
   "cell_type": "code",
   "execution_count": null,
   "id": "5d91d8b9",
   "metadata": {},
   "outputs": [],
   "source": []
  },
  {
   "cell_type": "code",
   "execution_count": null,
   "id": "9ccfccd7",
   "metadata": {},
   "outputs": [],
   "source": []
  },
  {
   "cell_type": "code",
   "execution_count": null,
   "id": "5dc4f1d5",
   "metadata": {},
   "outputs": [],
   "source": []
  },
  {
   "cell_type": "code",
   "execution_count": 29,
   "id": "cb9adb05",
   "metadata": {},
   "outputs": [
    {
     "name": "stdout",
     "output_type": "stream",
     "text": [
      "{\"status\":{\"code\":-1,\"info\":\"Invalid request data type: {\\\"data\\\": {\\\"List\\\": [\\\"Hello\\\"]}}\",\"reason\":\"MICROSERVICE_BAD_DATA\",\"status\":1}}\n",
      "\n"
     ]
    }
   ],
   "source": [
    "baseurl = \"http://build-log-tfidf-transformer-opf-seldon.apps.zero.massopen.cloud/predict\"\n",
    "filename = \"notebooks/data-sources/gcsweb-ci/build-logs/test.txt\"\n",
    "with open(filename, 'rb') as f:\n",
    "    files = json.dumps({\"data\": {\"List\": [\"Hello\"]}})\n",
    "    r = requests.post(baseurl, json=files)\n",
    "    print(r.text)"
   ]
  },
  {
   "cell_type": "code",
   "execution_count": 14,
   "id": "c6a1885a",
   "metadata": {},
   "outputs": [
    {
     "name": "stdout",
     "output_type": "stream",
     "text": [
      "/home/mcliffor/Desktop/AIOps_Projects/ocp-ci-analysis\n"
     ]
    }
   ],
   "source": []
  },
  {
   "cell_type": "code",
   "execution_count": null,
   "id": "ff6cc394",
   "metadata": {},
   "outputs": [],
   "source": []
  }
 ],
 "metadata": {
  "kernelspec": {
   "display_name": "devenv",
   "language": "python",
   "name": "devenv"
  },
  "language_info": {
   "codemirror_mode": {
    "name": "ipython",
    "version": 3
   },
   "file_extension": ".py",
   "mimetype": "text/x-python",
   "name": "python",
   "nbconvert_exporter": "python",
   "pygments_lexer": "ipython3",
   "version": "3.7.4"
  }
 },
 "nbformat": 4,
 "nbformat_minor": 5
}
